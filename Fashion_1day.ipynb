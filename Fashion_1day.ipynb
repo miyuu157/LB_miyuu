{
  "nbformat": 4,
  "nbformat_minor": 0,
  "metadata": {
    "colab": {
      "name": "Fashion_1day.ipynb",
      "provenance": [],
      "collapsed_sections": [],
      "include_colab_link": true
    },
    "kernelspec": {
      "name": "python3",
      "display_name": "Python 3"
    },
    "language_info": {
      "name": "python"
    },
    "widgets": {
      "application/vnd.jupyter.widget-state+json": {
        "be6eb4fa7e4548c39b774dd1d924ac77": {
          "model_module": "@jupyter-widgets/controls",
          "model_name": "HBoxModel",
          "model_module_version": "1.5.0",
          "state": {
            "_view_name": "HBoxView",
            "_dom_classes": [],
            "_model_name": "HBoxModel",
            "_view_module": "@jupyter-widgets/controls",
            "_model_module_version": "1.5.0",
            "_view_count": null,
            "_view_module_version": "1.5.0",
            "box_style": "",
            "layout": "IPY_MODEL_a73366b549cc4316b50255300b8f0d51",
            "_model_module": "@jupyter-widgets/controls",
            "children": [
              "IPY_MODEL_7eb46fa08bac4214b312f7dbdcad066f",
              "IPY_MODEL_93179a445e4e4b6c975d8e68b0dd077f",
              "IPY_MODEL_1e26318e37874d18938ca571cbf78f44"
            ]
          }
        },
        "a73366b549cc4316b50255300b8f0d51": {
          "model_module": "@jupyter-widgets/base",
          "model_name": "LayoutModel",
          "model_module_version": "1.2.0",
          "state": {
            "_view_name": "LayoutView",
            "grid_template_rows": null,
            "right": null,
            "justify_content": null,
            "_view_module": "@jupyter-widgets/base",
            "overflow": null,
            "_model_module_version": "1.2.0",
            "_view_count": null,
            "flex_flow": null,
            "width": null,
            "min_width": null,
            "border": null,
            "align_items": null,
            "bottom": null,
            "_model_module": "@jupyter-widgets/base",
            "top": null,
            "grid_column": null,
            "overflow_y": null,
            "overflow_x": null,
            "grid_auto_flow": null,
            "grid_area": null,
            "grid_template_columns": null,
            "flex": null,
            "_model_name": "LayoutModel",
            "justify_items": null,
            "grid_row": null,
            "max_height": null,
            "align_content": null,
            "visibility": null,
            "align_self": null,
            "height": null,
            "min_height": null,
            "padding": null,
            "grid_auto_rows": null,
            "grid_gap": null,
            "max_width": null,
            "order": null,
            "_view_module_version": "1.2.0",
            "grid_template_areas": null,
            "object_position": null,
            "object_fit": null,
            "grid_auto_columns": null,
            "margin": null,
            "display": null,
            "left": null
          }
        },
        "7eb46fa08bac4214b312f7dbdcad066f": {
          "model_module": "@jupyter-widgets/controls",
          "model_name": "HTMLModel",
          "model_module_version": "1.5.0",
          "state": {
            "_view_name": "HTMLView",
            "style": "IPY_MODEL_39417744d0874a028c7f54c7c5d6c546",
            "_dom_classes": [],
            "description": "",
            "_model_name": "HTMLModel",
            "placeholder": "​",
            "_view_module": "@jupyter-widgets/controls",
            "_model_module_version": "1.5.0",
            "value": "Epoch 01: 100%",
            "_view_count": null,
            "_view_module_version": "1.5.0",
            "description_tooltip": null,
            "_model_module": "@jupyter-widgets/controls",
            "layout": "IPY_MODEL_0741f97fa9a34a2b8e78871a7ac32299"
          }
        },
        "93179a445e4e4b6c975d8e68b0dd077f": {
          "model_module": "@jupyter-widgets/controls",
          "model_name": "FloatProgressModel",
          "model_module_version": "1.5.0",
          "state": {
            "_view_name": "ProgressView",
            "style": "IPY_MODEL_36a55f9286f94bad9dd38f9e077672a4",
            "_dom_classes": [],
            "description": "",
            "_model_name": "FloatProgressModel",
            "bar_style": "",
            "max": 391,
            "_view_module": "@jupyter-widgets/controls",
            "_model_module_version": "1.5.0",
            "value": 391,
            "_view_count": null,
            "_view_module_version": "1.5.0",
            "orientation": "horizontal",
            "min": 0,
            "description_tooltip": null,
            "_model_module": "@jupyter-widgets/controls",
            "layout": "IPY_MODEL_d44673d7662c41ba961d6bf083d656a6"
          }
        },
        "1e26318e37874d18938ca571cbf78f44": {
          "model_module": "@jupyter-widgets/controls",
          "model_name": "HTMLModel",
          "model_module_version": "1.5.0",
          "state": {
            "_view_name": "HTMLView",
            "style": "IPY_MODEL_05f5c7c46eaa4b64a81837f5ca9ff73c",
            "_dom_classes": [],
            "description": "",
            "_model_name": "HTMLModel",
            "placeholder": "​",
            "_view_module": "@jupyter-widgets/controls",
            "_model_module_version": "1.5.0",
            "value": " 391/391 [00:33&lt;00:00, 26.29it/s, loss=0.23, acc=0.912]",
            "_view_count": null,
            "_view_module_version": "1.5.0",
            "description_tooltip": null,
            "_model_module": "@jupyter-widgets/controls",
            "layout": "IPY_MODEL_0d338b0de240486abcde00218cc83539"
          }
        },
        "39417744d0874a028c7f54c7c5d6c546": {
          "model_module": "@jupyter-widgets/controls",
          "model_name": "DescriptionStyleModel",
          "model_module_version": "1.5.0",
          "state": {
            "_view_name": "StyleView",
            "_model_name": "DescriptionStyleModel",
            "description_width": "",
            "_view_module": "@jupyter-widgets/base",
            "_model_module_version": "1.5.0",
            "_view_count": null,
            "_view_module_version": "1.2.0",
            "_model_module": "@jupyter-widgets/controls"
          }
        },
        "0741f97fa9a34a2b8e78871a7ac32299": {
          "model_module": "@jupyter-widgets/base",
          "model_name": "LayoutModel",
          "model_module_version": "1.2.0",
          "state": {
            "_view_name": "LayoutView",
            "grid_template_rows": null,
            "right": null,
            "justify_content": null,
            "_view_module": "@jupyter-widgets/base",
            "overflow": null,
            "_model_module_version": "1.2.0",
            "_view_count": null,
            "flex_flow": null,
            "width": null,
            "min_width": null,
            "border": null,
            "align_items": null,
            "bottom": null,
            "_model_module": "@jupyter-widgets/base",
            "top": null,
            "grid_column": null,
            "overflow_y": null,
            "overflow_x": null,
            "grid_auto_flow": null,
            "grid_area": null,
            "grid_template_columns": null,
            "flex": null,
            "_model_name": "LayoutModel",
            "justify_items": null,
            "grid_row": null,
            "max_height": null,
            "align_content": null,
            "visibility": null,
            "align_self": null,
            "height": null,
            "min_height": null,
            "padding": null,
            "grid_auto_rows": null,
            "grid_gap": null,
            "max_width": null,
            "order": null,
            "_view_module_version": "1.2.0",
            "grid_template_areas": null,
            "object_position": null,
            "object_fit": null,
            "grid_auto_columns": null,
            "margin": null,
            "display": null,
            "left": null
          }
        },
        "36a55f9286f94bad9dd38f9e077672a4": {
          "model_module": "@jupyter-widgets/controls",
          "model_name": "ProgressStyleModel",
          "model_module_version": "1.5.0",
          "state": {
            "_view_name": "StyleView",
            "_model_name": "ProgressStyleModel",
            "description_width": "",
            "_view_module": "@jupyter-widgets/base",
            "_model_module_version": "1.5.0",
            "_view_count": null,
            "_view_module_version": "1.2.0",
            "bar_color": null,
            "_model_module": "@jupyter-widgets/controls"
          }
        },
        "d44673d7662c41ba961d6bf083d656a6": {
          "model_module": "@jupyter-widgets/base",
          "model_name": "LayoutModel",
          "model_module_version": "1.2.0",
          "state": {
            "_view_name": "LayoutView",
            "grid_template_rows": null,
            "right": null,
            "justify_content": null,
            "_view_module": "@jupyter-widgets/base",
            "overflow": null,
            "_model_module_version": "1.2.0",
            "_view_count": null,
            "flex_flow": null,
            "width": null,
            "min_width": null,
            "border": null,
            "align_items": null,
            "bottom": null,
            "_model_module": "@jupyter-widgets/base",
            "top": null,
            "grid_column": null,
            "overflow_y": null,
            "overflow_x": null,
            "grid_auto_flow": null,
            "grid_area": null,
            "grid_template_columns": null,
            "flex": null,
            "_model_name": "LayoutModel",
            "justify_items": null,
            "grid_row": null,
            "max_height": null,
            "align_content": null,
            "visibility": null,
            "align_self": null,
            "height": null,
            "min_height": null,
            "padding": null,
            "grid_auto_rows": null,
            "grid_gap": null,
            "max_width": null,
            "order": null,
            "_view_module_version": "1.2.0",
            "grid_template_areas": null,
            "object_position": null,
            "object_fit": null,
            "grid_auto_columns": null,
            "margin": null,
            "display": null,
            "left": null
          }
        },
        "05f5c7c46eaa4b64a81837f5ca9ff73c": {
          "model_module": "@jupyter-widgets/controls",
          "model_name": "DescriptionStyleModel",
          "model_module_version": "1.5.0",
          "state": {
            "_view_name": "StyleView",
            "_model_name": "DescriptionStyleModel",
            "description_width": "",
            "_view_module": "@jupyter-widgets/base",
            "_model_module_version": "1.5.0",
            "_view_count": null,
            "_view_module_version": "1.2.0",
            "_model_module": "@jupyter-widgets/controls"
          }
        },
        "0d338b0de240486abcde00218cc83539": {
          "model_module": "@jupyter-widgets/base",
          "model_name": "LayoutModel",
          "model_module_version": "1.2.0",
          "state": {
            "_view_name": "LayoutView",
            "grid_template_rows": null,
            "right": null,
            "justify_content": null,
            "_view_module": "@jupyter-widgets/base",
            "overflow": null,
            "_model_module_version": "1.2.0",
            "_view_count": null,
            "flex_flow": null,
            "width": null,
            "min_width": null,
            "border": null,
            "align_items": null,
            "bottom": null,
            "_model_module": "@jupyter-widgets/base",
            "top": null,
            "grid_column": null,
            "overflow_y": null,
            "overflow_x": null,
            "grid_auto_flow": null,
            "grid_area": null,
            "grid_template_columns": null,
            "flex": null,
            "_model_name": "LayoutModel",
            "justify_items": null,
            "grid_row": null,
            "max_height": null,
            "align_content": null,
            "visibility": null,
            "align_self": null,
            "height": null,
            "min_height": null,
            "padding": null,
            "grid_auto_rows": null,
            "grid_gap": null,
            "max_width": null,
            "order": null,
            "_view_module_version": "1.2.0",
            "grid_template_areas": null,
            "object_position": null,
            "object_fit": null,
            "grid_auto_columns": null,
            "margin": null,
            "display": null,
            "left": null
          }
        }
      }
    },
    "accelerator": "GPU"
  },
  "cells": [
    {
      "cell_type": "markdown",
      "metadata": {
        "id": "view-in-github",
        "colab_type": "text"
      },
      "source": [
        "<a href=\"https://colab.research.google.com/github/miyuu157/LB_miyuu/blob/main/Fashion_1day.ipynb\" target=\"_parent\"><img src=\"https://colab.research.google.com/assets/colab-badge.svg\" alt=\"Open In Colab\"/></a>"
      ]
    },
    {
      "cell_type": "markdown",
      "metadata": {
        "id": "xsXAMlamFHFW"
      },
      "source": [
        "## 課題\n",
        "\n",
        "CNNを用いて、FashionMNISTの高精度な分類器を実装してみましょう。</br>\n",
        "モデルのレイヤーを変更してみるなどして精度の向上にチャンレンジして下さい。"
      ]
    },
    {
      "cell_type": "markdown",
      "metadata": {
        "id": "ht1a2RPuFOO0"
      },
      "source": [
        "### 目標値\n",
        "\n",
        "Accuracy: 93%"
      ]
    },
    {
      "cell_type": "markdown",
      "metadata": {
        "id": "Jgg8jgWSFhi-"
      },
      "source": [
        "### ルール\n",
        "\n",
        "- 訓練データはx_train、 t_train、テストデータはx_test、t_testで与えられます。ご自身のマイドライブにコピーして作業を始めてください。\n",
        "- 予測ラベルは one_hot表現ではなく0~9のクラスラベル で表してください。\n",
        "- **下のセルで指定されているx_train、t_train以外の学習データは使わないでください。**\n",
        "- torchvision等で既に実装されているモデルを使用しないで下さい。**ただし、torchvision.transformsのみ使用しても良いです。**\n",
        "- Conv, Pool, Flatten, Denseは必ず下記のクラスを補完する形で作成してください．（nn.Conv2D, nn.Pool2d, nn.Flatten, nn.Dense等を使用しないでください．）\n",
        "- n_epoch <= 20 （学習時間が伸び1dayに収まらない可能性があります）\n",
        "- input size <= 32x32\n",
        "\n"
      ]
    },
    {
      "cell_type": "markdown",
      "metadata": {
        "id": "uCHUe8RFGUCc"
      },
      "source": [
        "### 評価方法\n",
        "\n",
        "- 予測ラベルのx_testに対する精度 (Accuracy) で評価します。\n"
      ]
    },
    {
      "cell_type": "markdown",
      "metadata": {
        "id": "f_PvfHlXGucl"
      },
      "source": [
        "### データの読み込み　※この部分は変更しないでください"
      ]
    },
    {
      "cell_type": "code",
      "metadata": {
        "colab": {
          "base_uri": "https://localhost:8080/"
        },
        "id": "EpXUpdTBGm_o",
        "outputId": "c5f855db-1d07-4eab-d92c-99d6eaa40cb6"
      },
      "source": [
        "# この部分は変更しないでください\n",
        "from google.colab import drive\n",
        "drive.mount('/content/drive')"
      ],
      "execution_count": 2,
      "outputs": [
        {
          "output_type": "stream",
          "name": "stdout",
          "text": [
            "Mounted at /content/drive\n"
          ]
        }
      ]
    },
    {
      "cell_type": "code",
      "metadata": {
        "id": "BEvdmIjPG0K-"
      },
      "source": [
        "# この部分は変更しないでください\n",
        "import gzip\n",
        "import numpy as np\n",
        "import pandas as pd\n",
        "import torch\n",
        "import torch.nn as nn\n",
        "import torch.optim as optim\n",
        "import torch.autograd as autograd\n",
        "import torch.nn.functional as F\n",
        "import inspect\n",
        "\n",
        "from torchvision import transforms\n",
        "from PIL import Image\n",
        "\n",
        "#学習データ\n",
        "\n",
        "with gzip.open('/content/drive/MyDrive/data/train-labels-idx1-ubyte.gz', 'rb') as lbpath:\n",
        "    t_train = np.frombuffer(lbpath.read(), dtype=np.uint8, offset=8)\n",
        "with gzip.open('/content/drive/MyDrive/data/train-images-idx3-ubyte.gz', 'rb') as imgpath:\n",
        "    x_train = np.frombuffer(imgpath.read(), dtype=np.uint8, offset=16).reshape(len(t_train), 784)\n",
        "\n",
        "val_size = 10000 \n",
        "\n",
        "#テストデータ\n",
        "with gzip.open('/content/drive/MyDrive/data/t10k-labels-idx1-ubyte.gz', 'rb') as lbpath:\n",
        "    t_test = np.frombuffer(lbpath.read(), dtype=np.uint8, offset=8)\n",
        "with gzip.open('/content/drive/MyDrive/data/t10k-images-idx3-ubyte.gz', 'rb') as imgpath:\n",
        "    x_test = np.frombuffer(imgpath.read(), dtype=np.uint8, offset=16).reshape(len(t_test), 784)\n"
      ],
      "execution_count": 3,
      "outputs": []
    },
    {
      "cell_type": "markdown",
      "metadata": {
        "id": "pimvXcRDHMHw"
      },
      "source": [
        "### DatasetとDataloader定義"
      ]
    },
    {
      "cell_type": "code",
      "metadata": {
        "id": "i-wn83z2HXmY"
      },
      "source": [
        "# 前処理 -> 必要があれば編集してください\n",
        "data_transform = transforms.Compose([\n",
        "    transforms.ToTensor()\n",
        "])\n",
        "\n",
        "# Dataset定義 -> 必要があれば編集してください\n",
        "class train_dataset(torch.utils.data.Dataset):\n",
        "    def __init__(self, x_train, t_train, transform):\n",
        "        self.x_train = x_train\n",
        "        self.t_train = t_train\n",
        "        self.transform = transform\n",
        "\n",
        "    def __len__(self):\n",
        "        return self.x_train.shape[0]\n",
        "\n",
        "    def __getitem__(self, idx):\n",
        "        img = np.uint8(self.x_train[idx]).reshape(28, 28)\n",
        "        img = self.transform(Image.fromarray(img, mode=\"L\"))\n",
        "        return img, torch.tensor(self.t_train[idx], dtype=torch.long)\n",
        "\n",
        "class test_dataset(torch.utils.data.Dataset):\n",
        "    def __init__(self, x_test, t_test, transform):\n",
        "        self.x_test = x_test\n",
        "        self.t_test = t_test\n",
        "        self.transform = transform\n",
        "\n",
        "    def __len__(self):\n",
        "        return self.x_test.shape[0]\n",
        "\n",
        "    def __getitem__(self, idx):\n",
        "        img = np.uint8(self.x_test[idx]).reshape(28, 28)\n",
        "        img = self.transform(Image.fromarray(img, mode=\"L\"))\n",
        "        return img, torch.tensor(self.t_test[idx], dtype=torch.long)\n",
        "\n",
        "trainval_data = train_dataset(x_train, t_train, transform=data_transform)\n",
        "test_data = test_dataset(x_test, t_test, transform=data_transform)"
      ],
      "execution_count": 4,
      "outputs": []
    },
    {
      "cell_type": "code",
      "metadata": {
        "colab": {
          "base_uri": "https://localhost:8080/"
        },
        "id": "IZnNuTBeEYHW",
        "outputId": "6e5eca20-e44f-4126-f17b-b93a103261ac"
      },
      "source": [
        "len(test_data)\n"
      ],
      "execution_count": 5,
      "outputs": [
        {
          "output_type": "execute_result",
          "data": {
            "text/plain": [
              "10000"
            ]
          },
          "metadata": {},
          "execution_count": 5
        }
      ]
    },
    {
      "cell_type": "code",
      "metadata": {
        "id": "8ZlDaTDqJw7Q"
      },
      "source": [
        "# Dataloader 定義 -> 必要があれば編集してください\n",
        "\n",
        "batch_size = 128\n",
        "\n",
        "train_size = len(trainval_data) - val_size\n",
        "train_data, val_data = torch.utils.data.random_split(trainval_data, [train_size, val_size])\n",
        "\n",
        "dataloader_train = torch.utils.data.DataLoader(\n",
        "    train_data,\n",
        "    batch_size=batch_size,\n",
        "    shuffle=True\n",
        ")\n",
        "\n",
        "dataloader_valid = torch.utils.data.DataLoader(\n",
        "    val_data,\n",
        "    batch_size=batch_size,\n",
        "    shuffle=True\n",
        ")\n",
        "\n",
        "dataloader_test = torch.utils.data.DataLoader(\n",
        "    test_data,\n",
        "    batch_size=batch_size,\n",
        "    shuffle=False\n",
        ")"
      ],
      "execution_count": 6,
      "outputs": []
    },
    {
      "cell_type": "code",
      "metadata": {
        "id": "CV4Tq2uVQMbe"
      },
      "source": [
        "#dataloader_train_tensor = torch.tensor(dataloader_train)"
      ],
      "execution_count": 7,
      "outputs": []
    },
    {
      "cell_type": "code",
      "metadata": {
        "colab": {
          "base_uri": "https://localhost:8080/"
        },
        "id": "Et01OQrwMTGP",
        "outputId": "d99b136d-75d6-42f1-c31f-6e9be92df80a"
      },
      "source": [
        "print(dataloader_train)"
      ],
      "execution_count": 8,
      "outputs": [
        {
          "output_type": "stream",
          "name": "stdout",
          "text": [
            "<torch.utils.data.dataloader.DataLoader object at 0x7f0ad3489250>\n"
          ]
        }
      ]
    },
    {
      "cell_type": "markdown",
      "metadata": {
        "id": "a6T2WJTbz369"
      },
      "source": [
        "### 畳み込みニューラルネットワーク(CNN)の実装\n",
        "\n",
        "- 各レイヤーの定義 -> コードを作成してください．"
      ]
    },
    {
      "cell_type": "code",
      "metadata": {
        "id": "AgP9EajRLHjh"
      },
      "source": [
        "class Conv(nn.Module):\n",
        "    def __init__(self, filter_shape, function=lambda x: x, stride=(1, 1), padding=0):\n",
        "        super().__init__()\n",
        "        # Heの初期値\n",
        "        fan_in = filter_shape[1] * filter_shape[2] * filter_shape[3]\n",
        "        # filter_shape: (出力チャンネル数)x(入力チャンネル数)x(縦の次元数)x(横の次元数)\n",
        "        fan_out = filter_shape[0] * filter_shape[2] * filter_shape[3]\n",
        "\n",
        "        self.W = nn.Parameter(torch.tensor(rng.normal(\n",
        "                        0,\n",
        "                        np.sqrt(2/fan_in),\n",
        "                        size=filter_shape\n",
        "                    ).astype('float32')))\n",
        "\n",
        "        # バイアスはフィルタごとなので, 出力フィルタ数と同じ次元数\n",
        "        self.b = nn.Parameter(torch.tensor(np.zeros((filter_shape[0]), dtype='float32')))\n",
        "        self.function = function\n",
        "        self.stride = stride\n",
        "        self.padding = padding\n",
        "        \n",
        "    def forward(self, x):\n",
        "        u = F.conv2d(x, self.W, bias=self.b, stride=self.stride, padding=self.padding)\n",
        "        return self.function(u)    \n",
        "\n",
        "\n",
        "class Pooling(nn.Module):\n",
        "    def __init__(self, ksize=(2, 2), stride=(2, 2), padding=0):\n",
        "        super().__init__()\n",
        "        self.ksize = ksize\n",
        "        self.stride = stride\n",
        "        self.padding = padding\n",
        "\n",
        "    def forward(self, x):\n",
        "        return F.avg_pool2d(x, kernel_size=self.ksize, stride=self.stride, padding=self.padding)\n",
        "          \n",
        "\n",
        "class Flatten(nn.Module):\n",
        "    def __init__(self):\n",
        "        super().__init__()\n",
        "\n",
        "    def forward(self, x):\n",
        "        return x.view(x.size()[0], -1)\n",
        "\n",
        "\n",
        "class Dense(nn.Module):\n",
        "    def __init__(self, in_dim, out_dim, function=lambda x: x):\n",
        "        super().__init__()\n",
        "        # He Initialization\n",
        "        # in_dim: 入力の次元数、out_dim: 出力の次元数              \n",
        "        self.W = nn.Parameter(torch.tensor(rng.normal(\n",
        "                        0,\n",
        "                        np.sqrt(2/in_dim),\n",
        "                        size=(in_dim, out_dim)\n",
        "                    ).astype('float32')))\n",
        "\n",
        "        self.b = nn.Parameter(torch.tensor(np.zeros([out_dim]).astype('float32')))\n",
        "        self.function = function\n",
        "    def forward(self, x):\n",
        "        return self.function(torch.matmul(x, self.W) + self.b)"
      ],
      "execution_count": 9,
      "outputs": []
    },
    {
      "cell_type": "code",
      "metadata": {
        "id": "7BqKWLjZEV72"
      },
      "source": [
        ""
      ],
      "execution_count": 9,
      "outputs": []
    },
    {
      "cell_type": "markdown",
      "metadata": {
        "id": "pOujMoHx2J_Z"
      },
      "source": [
        "- 畳み込みニューラルネットワークモデル定義 -> コードを作成してください．"
      ]
    },
    {
      "cell_type": "code",
      "metadata": {
        "id": "8cmFDd8O2Yl6"
      },
      "source": [
        "class ClassificationModel(nn.Module):\n",
        "    # WRITE ME\n",
        "    def __init__(self):\n",
        "        super(ClassificationModel, self).__init__()\n",
        "        self.conv = nn.Sequential(\n",
        "            Conv((20, 1, 5, 5), F.relu),     # 28x28x 1 -> 24x24x20\n",
        "            Pooling((2, 2)),                 # 24x24x20 -> 12x12x20\n",
        "            Conv((50, 20, 5, 5), F.relu),    # 12x12x20 ->  8x 8x50\n",
        "            Pooling((2, 2)),                 #  8x 8x50 ->  4x 4x50\n",
        "            Flatten(),\n",
        "            Dense(4*4*50, 10)\n",
        "        )        \n",
        "\n",
        "    def forward(self, x):\n",
        "      x = self.conv(x) \n",
        "      return x\n",
        "\n",
        "\n"
      ],
      "execution_count": 10,
      "outputs": []
    },
    {
      "cell_type": "markdown",
      "metadata": {
        "id": "OsQskJUb3Bcq"
      },
      "source": [
        "- モデルの引用"
      ]
    },
    {
      "cell_type": "code",
      "metadata": {
        "colab": {
          "base_uri": "https://localhost:8080/"
        },
        "id": "Kc-i6xde3HGH",
        "outputId": "303308df-031a-4b91-aed2-a0550c29bf72"
      },
      "source": [
        "# モデルの引用\n",
        "rng = np.random.RandomState(1234)\n",
        "random_state = 42\n",
        "device = torch.device(\"cuda\" if torch.cuda.is_available() else \"cpu\")\n",
        "\n",
        "conv_net = ClassificationModel()\n",
        "conv_net.to(device)"
      ],
      "execution_count": 11,
      "outputs": [
        {
          "output_type": "execute_result",
          "data": {
            "text/plain": [
              "ClassificationModel(\n",
              "  (conv): Sequential(\n",
              "    (0): Conv()\n",
              "    (1): Pooling()\n",
              "    (2): Conv()\n",
              "    (3): Pooling()\n",
              "    (4): Flatten()\n",
              "    (5): Dense()\n",
              "  )\n",
              ")"
            ]
          },
          "metadata": {},
          "execution_count": 11
        }
      ]
    },
    {
      "cell_type": "markdown",
      "metadata": {
        "id": "nT_Oi6vd4HVe"
      },
      "source": [
        "### モデルトレーニング\n",
        "- モデルトレーニングのコードを作成してください．"
      ]
    },
    {
      "cell_type": "code",
      "metadata": {
        "colab": {
          "base_uri": "https://localhost:8080/",
          "height": 66,
          "referenced_widgets": [
            "be6eb4fa7e4548c39b774dd1d924ac77",
            "a73366b549cc4316b50255300b8f0d51",
            "7eb46fa08bac4214b312f7dbdcad066f",
            "93179a445e4e4b6c975d8e68b0dd077f",
            "1e26318e37874d18938ca571cbf78f44",
            "39417744d0874a028c7f54c7c5d6c546",
            "0741f97fa9a34a2b8e78871a7ac32299",
            "36a55f9286f94bad9dd38f9e077672a4",
            "d44673d7662c41ba961d6bf083d656a6",
            "05f5c7c46eaa4b64a81837f5ca9ff73c",
            "0d338b0de240486abcde00218cc83539"
          ]
        },
        "id": "x3D5zVqS4Vdg",
        "outputId": "86a79298-5b34-41b6-cc96-732dc09abe07"
      },
      "source": [
        "from tqdm.notebook import tqdm\n",
        "from collections import OrderedDict\n",
        "\n",
        "n_epochs = 1\n",
        "optimizer = optim.Adam(conv_net.parameters(), lr=1e-3)\n",
        "\n",
        "for epoch in range(n_epochs):\n",
        "    losses_train = []\n",
        "    losses_valid = []\n",
        "    train_num = 0\n",
        "    train_true_num = 0\n",
        "    valid_num = 0\n",
        "    valid_true_num = 0\n",
        "\n",
        "    processbar = tqdm(total = (train_size // batch_size + 1))\n",
        "    processbar.set_description(\"Epoch %02d\" % (epoch + 1))\n",
        "    conv_net.train()  # 訓練時には勾配を計算するtrainモードにする\n",
        "    for x, t in dataloader_train:\n",
        "        # WRITE ME \n",
        "        #train_num += t.size()[0]\n",
        "\n",
        "        conv_net.zero_grad()  # 勾配の初期化\n",
        "\n",
        "        x = x.to(device)  # テンソルをGPUに移動\n",
        "\n",
        "        t_hot = torch.eye(10)[t]  # 正解ラベルをone-hot vector化\n",
        "\n",
        "        t_hot = t_hot.to(device)  # 正解ラベルとone-hot vectorをそれぞれGPUに移動\n",
        "\n",
        "        y = conv_net.forward(x)  # 順伝播\n",
        "\n",
        "        loss = -(t_hot*torch.log_softmax(y, dim=-1)).sum(axis=1).mean()  # 誤差(クロスエントロピー誤差関数)の計算\n",
        "\n",
        "        loss.backward()  # 誤差の逆伝播\n",
        "\n",
        "        optimizer.step()  # パラメータの更新\n",
        "\n",
        "        pred = y.argmax(1)  # 最大値を取るラベルを予測ラベルとする\n",
        "\n",
        "        #acc_train += (pred.to(\"cpu\") == t).float().sum().item()\n",
        "#ここまで確認\n",
        "\n",
        "        losses_train.append(loss.tolist())\n",
        "\n",
        "        acc = torch.where(t - pred.to(\"cpu\") == 0, torch.ones_like(t), torch.zeros_like(t))\n",
        "        train_num += acc.size()[0]\n",
        "        train_true_num += acc.sum().item()\n",
        "\n",
        "        processbar.set_postfix(OrderedDict(loss=loss.tolist(), acc=(acc.sum().item()/acc.size()[0])))\n",
        "        processbar.update(1)\n",
        "\n",
        "    conv_net.eval()  # 評価時には勾配を計算しないevalモードにする\n",
        "    for x, t in dataloader_valid:\n",
        "        # WRITE ME\n",
        "        #n_val += t.size()[0]\n",
        "\n",
        "        x = x.to(device)  # テンソルをGPUに移動\n",
        "\n",
        "        t_hot = torch.eye(10)[t]  # 正解ラベルをone-hot vector化\n",
        "\n",
        "        t_hot = t_hot.to(device)  # 正解ラベルとone-hot vectorをそれぞれGPUに移動\n",
        "\n",
        "        y = conv_net.forward(x)  # 順伝播\n",
        "\n",
        "        loss = -(t_hot*torch.log_softmax(y, dim=-1)).sum(axis=1).mean()  # 誤差(クロスエントロピー誤差関数)の計算\n",
        "\n",
        "        pred = y.argmax(1)  # 最大値を取るラベルを予測ラベルとする\n",
        "\n",
        "        #acc_val += (pred.to(\"cpu\") == t).float().sum().item()\n",
        " #ここまで確認\n",
        "\n",
        "        losses_valid.append(loss.tolist())\n",
        "\n",
        "        acc = torch.where(t - pred.to(\"cpu\") == 0, torch.ones_like(t), torch.zeros_like(t))\n",
        "        valid_num += acc.size()[0]\n",
        "        valid_true_num += acc.sum().item()\n",
        "\n",
        "    print('EPOCH: {}, Train [Loss: {:.3f}, Accuracy: {:.3f}], Valid [Loss: {:.3f}, Accuracy: {:.3f}]'.format(\n",
        "        epoch+1,\n",
        "        np.mean(losses_train),\n",
        "        train_true_num/train_num,\n",
        "        np.mean(losses_valid),\n",
        "        valid_true_num/valid_num\n",
        "    ))"
      ],
      "execution_count": 17,
      "outputs": [
        {
          "output_type": "display_data",
          "data": {
            "application/vnd.jupyter.widget-view+json": {
              "model_id": "be6eb4fa7e4548c39b774dd1d924ac77",
              "version_minor": 0,
              "version_major": 2
            },
            "text/plain": [
              "  0%|          | 0/391 [00:00<?, ?it/s]"
            ]
          },
          "metadata": {}
        },
        {
          "output_type": "stream",
          "name": "stdout",
          "text": [
            "EPOCH: 1, Train [Loss: 0.215, Accuracy: 0.922], Valid [Loss: 0.256, Accuracy: 0.907]\n"
          ]
        }
      ]
    },
    {
      "cell_type": "markdown",
      "metadata": {
        "id": "4HoGFovw8M1P"
      },
      "source": [
        "### モデル分類精度テスト"
      ]
    },
    {
      "cell_type": "code",
      "metadata": {
        "id": "27kD7sSK8Ya_",
        "colab": {
          "base_uri": "https://localhost:8080/"
        },
        "outputId": "be3489d9-5fdb-4e2e-bfe7-576ce87ec802"
      },
      "source": [
        "conv_net.eval()\n",
        "\n",
        "t_pred = []\n",
        "test_num = 0\n",
        "test_true_num = 0\n",
        "for x, t in dataloader_test:\n",
        "    # Write Me ?\n",
        "    x = x.to(device)\n",
        "    y = conv_net.forward(x)\n",
        "    pred = y.argmax(1) \n",
        "    acc = torch.where(t - pred.to(\"cpu\") == 0, torch.ones_like(t), torch.zeros_like(t))\n",
        "    test_num += acc.size()[0]\n",
        "    test_true_num += acc.sum().item()\n",
        "\n",
        "print(\"Accuracy on test set: {:.3f}\".format(test_true_num/test_num))"
      ],
      "execution_count": 14,
      "outputs": [
        {
          "output_type": "stream",
          "name": "stdout",
          "text": [
            "Accuracy on test set: 0.911\n"
          ]
        }
      ]
    }
  ]
}